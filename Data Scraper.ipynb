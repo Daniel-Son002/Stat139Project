{
 "cells": [
  {
   "cell_type": "code",
   "execution_count": 1,
   "metadata": {},
   "outputs": [],
   "source": [
    "from bs4 import BeautifulSoup\n",
    "import requests\n",
    "import pandas as pd\n",
    "from selenium import webdriver\n",
    "from selenium.webdriver.common.keys import Keys\n",
    "import time, os\n",
    "import threading"
   ]
  },
  {
   "cell_type": "code",
   "execution_count": 2,
   "metadata": {},
   "outputs": [],
   "source": [
    "chromedriver = \"./chromedriver\"\n",
    "os.environ[\"webdriver.chrome.driver\"] = chromedriver"
   ]
  },
  {
   "cell_type": "code",
   "execution_count": 3,
   "metadata": {},
   "outputs": [],
   "source": [
    "def get_data(year, player_type, data_type):\n",
    "  \"\"\"\n",
    "  Scrapes data from baseball-reference.com\n",
    "  player_type is either batting or pitching\n",
    "  data_type indicates whether it is individual or team data\n",
    "  \"\"\"\n",
    "  driver = webdriver.Chrome(chromedriver)\n",
    "  url = f\"https://www.baseball-reference.com/leagues/majors/{year}-standard-{player_type}.shtml\"\n",
    "  driver.get(url)\n",
    "  if data_type == \"player\":\n",
    "    driver.execute_script(\"window.scrollTo(0, 1500);\")\n",
    "  else:\n",
    "    driver.execute_script(\"window.scrollTo(0, 750);\")\n",
    "\n",
    "  driver.find_element_by_xpath(f\"//*[@id=\\\"{data_type}_standard_{player_type}_sh\\\"]/div/ul/li[1]/span\").click()\n",
    "  # time.sleep(1)\n",
    "  driver.find_element_by_xpath(f\"//*[@id=\\\"{data_type}_standard_{player_type}_sh\\\"]/div/ul/li[1]/div/ul/li[3]/button\").click()\n",
    "  soup = BeautifulSoup(driver.page_source, \"html.parser\")\n",
    "  text_data = \"\\n\".join(soup.find(\"pre\", id=f\"csv_{data_type}_standard_{player_type}\").text.split(\"\\n\")[4:-1])\n",
    "  with open(f\"data/{data_type}_data/{player_type}{year}.csv\", \"w\") as f:\n",
    "    f.write(text_data)\n",
    "  driver.quit()\n"
   ]
  },
  {
   "cell_type": "code",
   "execution_count": null,
   "metadata": {},
   "outputs": [],
   "source": [
    "threads = []\n",
    "year_ranges = ((1997, 2000), (2000, 2004), (2004, 2008), (2008, 2012), (2012, 2014))\n",
    "for year_range in year_ranges:\n",
    "  for year in range(*year_range):\n",
    "    thread = threading.Thread(target=get_data, args=(year, \"batting\", \"player\",))\n",
    "    threads.append(thread)\n",
    "    thread.start()\n",
    "\n",
    "  for thread in threads:\n",
    "    thread.join()"
   ]
  },
  {
   "cell_type": "code",
   "execution_count": null,
   "metadata": {},
   "outputs": [],
   "source": [
    "threads = []\n",
    "year_ranges = ((1997, 2000), (2000, 2004), (2004, 2008), (2008, 2012), (2012, 2014))\n",
    "for year_range in year_ranges:\n",
    "  for year in range(*year_range):\n",
    "    thread = threading.Thread(target=get_data, args=(year, \"pitching\", \"player\", ))\n",
    "    threads.append(thread)\n",
    "    thread.start()\n",
    "\n",
    "  for thread in threads:\n",
    "    thread.join()"
   ]
  },
  {
   "cell_type": "code",
   "execution_count": null,
   "metadata": {},
   "outputs": [],
   "source": [
    "threads = []\n",
    "year_ranges = ((1997, 2000), (2000, 2003), (2003, 2006), (2006, 2009), (2009, 2012), (2012, 2015), (2015, 2017))\n",
    "for player_type in [\"pitching\", \"batting\"]:\n",
    "  for year_range in year_ranges:\n",
    "    for year in range(*year_range):\n",
    "      thread = threading.Thread(target=get_data, args=(year, player_type, \"teams\", ))\n",
    "      threads.append(thread)\n",
    "      thread.start()\n",
    "\n",
    "    for thread in threads:\n",
    "      thread.join()"
   ]
  },
  {
   "cell_type": "code",
   "execution_count": 5,
   "metadata": {},
   "outputs": [],
   "source": [
    "def get_fa_data(year):\n",
    "  \"\"\"\n",
    "  Scrapes free agent data from baseball-reference.com\n",
    "  \"\"\"\n",
    "  driver = webdriver.Chrome(chromedriver)\n",
    "  url = f\"https://www.baseball-reference.com/leagues/majors/{year}-free-agents.shtml\"\n",
    "  driver.get(url)\n",
    "  driver.execute_script(\"window.scrollTo(0, 750);\")\n",
    "\n",
    "  driver.find_element_by_xpath(f\"//*[@id=\\\"fa_signings_sh\\\"]/div/ul/li[1]/span\").click()\n",
    "  # time.sleep(1)\n",
    "  driver.find_element_by_xpath(f\"//*[@id=\\\"fa_signings_sh\\\"]/div/ul/li[1]/div/ul/li[3]/button\").click()\n",
    "  soup = BeautifulSoup(driver.page_source, \"html.parser\")\n",
    "  text_data = \"\\n\".join(soup.find(\"pre\", id=f\"csv_fa_signings\").text.split(\"\\n\")[4:-1])\n",
    "  with open(f\"data/fa_data/fa{year}.csv\", \"w\") as f:\n",
    "    f.write(text_data)\n",
    "  driver.quit()\n"
   ]
  },
  {
   "cell_type": "code",
   "execution_count": 8,
   "metadata": {},
   "outputs": [
    {
     "name": "stderr",
     "output_type": "stream",
     "text": [
      "Exception in thread Thread-24:\n",
      "Traceback (most recent call last):\n",
      "  File \"/Users/chrisunjae/anaconda3/envs/cs109a/lib/python3.7/threading.py\", line 926, in _bootstrap_inner\n",
      "    self.run()\n",
      "  File \"/Users/chrisunjae/anaconda3/envs/cs109a/lib/python3.7/threading.py\", line 870, in run\n",
      "    self._target(*self._args, **self._kwargs)\n",
      "  File \"<ipython-input-5-37b9f2bc88a6>\", line 12, in get_fa_data\n",
      "    driver.find_element_by_xpath(f\"//*[@id=\\\"fa_signings_sh\\\"]/div/ul/li[1]/div/ul/li[3]/button\").click()\n",
      "  File \"/Users/chrisunjae/anaconda3/envs/cs109a/lib/python3.7/site-packages/selenium/webdriver/remote/webelement.py\", line 80, in click\n",
      "    self._execute(Command.CLICK_ELEMENT)\n",
      "  File \"/Users/chrisunjae/anaconda3/envs/cs109a/lib/python3.7/site-packages/selenium/webdriver/remote/webelement.py\", line 633, in _execute\n",
      "    return self._parent.execute(command, params)\n",
      "  File \"/Users/chrisunjae/anaconda3/envs/cs109a/lib/python3.7/site-packages/selenium/webdriver/remote/webdriver.py\", line 321, in execute\n",
      "    self.error_handler.check_response(response)\n",
      "  File \"/Users/chrisunjae/anaconda3/envs/cs109a/lib/python3.7/site-packages/selenium/webdriver/remote/errorhandler.py\", line 242, in check_response\n",
      "    raise exception_class(message, screen, stacktrace)\n",
      "selenium.common.exceptions.ElementNotInteractableException: Message: element not interactable\n",
      "  (Session info: chrome=108.0.5359.98)\n",
      "\n",
      "\n"
     ]
    }
   ],
   "source": [
    "threads = []\n",
    "year_ranges = ((2000, 2004), (2004, 2008), (2008, 2012), (2012, 2016), (2016, 2020), (2020, 2022))\n",
    "for year_range in year_ranges:\n",
    "  for year in range(*year_range):\n",
    "    thread = threading.Thread(target=get_fa_data, args=(year,))\n",
    "    threads.append(thread)\n",
    "    thread.start()\n",
    "\n",
    "  for thread in threads:\n",
    "    thread.join()"
   ]
  },
  {
   "cell_type": "code",
   "execution_count": 22,
   "metadata": {},
   "outputs": [],
   "source": [
    "get_fa_data(2014)"
   ]
  },
  {
   "cell_type": "code",
   "execution_count": 17,
   "metadata": {},
   "outputs": [],
   "source": [
    "def get_fielding_data(year, data_type):\n",
    "  \"\"\"\n",
    "  Scrapes data from baseball-reference.com\n",
    "  data_type indicates whether it is individual or team data\n",
    "  \"\"\"\n",
    "  driver = webdriver.Chrome(chromedriver)\n",
    "  url = f\"https://www.baseball-reference.com/leagues/majors/{year}-standard-fielding.shtml\"\n",
    "  driver.get(url)\n",
    "  if data_type == \"player\":\n",
    "    driver.execute_script(\"window.scrollTo(0, 1500);\")\n",
    "  else:\n",
    "    driver.execute_script(\"window.scrollTo(0, 750);\")\n",
    "  path_dt = \"teams\" if data_type == \"teams\" else \"players_players\"\n",
    "  path_pt = \"fielding\" if data_type == \"teams\" else \"fielding_fielding\"\n",
    "\n",
    "  driver.find_element_by_xpath(f\"//*[@id=\\\"{path_dt}_standard_{path_pt}_sh\\\"]/div/ul/li[1]/span\").click()\n",
    "  # time.sleep(1)\n",
    "  driver.find_element_by_xpath(f\"//*[@id=\\\"{path_dt}_standard_{path_pt}_sh\\\"]/div/ul/li[1]/div/ul/li[3]/button\").click()\n",
    "  soup = BeautifulSoup(driver.page_source, \"html.parser\")\n",
    "  text_data = \"\\n\".join(soup.find(\"pre\", id=f\"csv_{path_dt}_standard_{path_pt}\").text.split(\"\\n\")[4:-1])\n",
    "  with open(f\"data/{data_type}_data/fielding{year}.csv\", \"w\") as f:\n",
    "    f.write(text_data)\n",
    "  driver.quit()"
   ]
  },
  {
   "cell_type": "code",
   "execution_count": 20,
   "metadata": {},
   "outputs": [
    {
     "name": "stderr",
     "output_type": "stream",
     "text": [
      "Exception in thread Thread-39:\n",
      "Traceback (most recent call last):\n",
      "  File \"/Users/chrisunjae/anaconda3/envs/cs109a/lib/python3.7/threading.py\", line 926, in _bootstrap_inner\n",
      "    self.run()\n",
      "  File \"/Users/chrisunjae/anaconda3/envs/cs109a/lib/python3.7/threading.py\", line 870, in run\n",
      "    self._target(*self._args, **self._kwargs)\n",
      "  File \"<ipython-input-17-438a3cbd10e5>\", line 18, in get_fielding_data\n",
      "    driver.find_element_by_xpath(f\"//*[@id=\\\"{path_dt}_standard_{path_pt}_sh\\\"]/div/ul/li[1]/div/ul/li[3]/button\").click()\n",
      "  File \"/Users/chrisunjae/anaconda3/envs/cs109a/lib/python3.7/site-packages/selenium/webdriver/remote/webelement.py\", line 80, in click\n",
      "    self._execute(Command.CLICK_ELEMENT)\n",
      "  File \"/Users/chrisunjae/anaconda3/envs/cs109a/lib/python3.7/site-packages/selenium/webdriver/remote/webelement.py\", line 633, in _execute\n",
      "    return self._parent.execute(command, params)\n",
      "  File \"/Users/chrisunjae/anaconda3/envs/cs109a/lib/python3.7/site-packages/selenium/webdriver/remote/webdriver.py\", line 321, in execute\n",
      "    self.error_handler.check_response(response)\n",
      "  File \"/Users/chrisunjae/anaconda3/envs/cs109a/lib/python3.7/site-packages/selenium/webdriver/remote/errorhandler.py\", line 242, in check_response\n",
      "    raise exception_class(message, screen, stacktrace)\n",
      "selenium.common.exceptions.ElementNotInteractableException: Message: element not interactable\n",
      "  (Session info: chrome=108.0.5359.98)\n",
      "\n",
      "\n",
      "Exception in thread Thread-47:\n",
      "Traceback (most recent call last):\n",
      "  File \"/Users/chrisunjae/anaconda3/envs/cs109a/lib/python3.7/threading.py\", line 926, in _bootstrap_inner\n",
      "    self.run()\n",
      "  File \"/Users/chrisunjae/anaconda3/envs/cs109a/lib/python3.7/threading.py\", line 870, in run\n",
      "    self._target(*self._args, **self._kwargs)\n",
      "  File \"<ipython-input-17-438a3cbd10e5>\", line 16, in get_fielding_data\n",
      "    driver.find_element_by_xpath(f\"//*[@id=\\\"{path_dt}_standard_{path_pt}_sh\\\"]/div/ul/li[1]/span\").click()\n",
      "  File \"/Users/chrisunjae/anaconda3/envs/cs109a/lib/python3.7/site-packages/selenium/webdriver/remote/webelement.py\", line 80, in click\n",
      "    self._execute(Command.CLICK_ELEMENT)\n",
      "  File \"/Users/chrisunjae/anaconda3/envs/cs109a/lib/python3.7/site-packages/selenium/webdriver/remote/webelement.py\", line 633, in _execute\n",
      "    return self._parent.execute(command, params)\n",
      "  File \"/Users/chrisunjae/anaconda3/envs/cs109a/lib/python3.7/site-packages/selenium/webdriver/remote/webdriver.py\", line 321, in execute\n",
      "    self.error_handler.check_response(response)\n",
      "  File \"/Users/chrisunjae/anaconda3/envs/cs109a/lib/python3.7/site-packages/selenium/webdriver/remote/errorhandler.py\", line 242, in check_response\n",
      "    raise exception_class(message, screen, stacktrace)\n",
      "selenium.common.exceptions.ElementClickInterceptedException: Message: element click intercepted: Element <span>...</span> is not clickable at point (226, 871). Other element would receive the click: <iframe frameborder=\"0\" src=\"https://25742cb9f86aad578174ab4f56b39eb1.safeframe.googlesyndication.com/safeframe/1-0-40/html/container.html\" id=\"google_ads_iframe_/15184186,117033896/baseball-reference_970x90_728x90_320x50_Sticky_footer_0\" title=\"3rd party ad content\" name=\"\" scrolling=\"no\" marginwidth=\"0\" marginheight=\"0\" width=\"728\" height=\"90\" data-is-safeframe=\"true\" sandbox=\"allow-forms allow-popups allow-popups-to-escape-sandbox allow-same-origin allow-scripts allow-top-navigation-by-user-activation\" role=\"region\" aria-label=\"Advertisement\" tabindex=\"0\" data-google-container-id=\"1\" style=\"border: 0px; vertical-align: bottom;\" data-load-complete=\"true\"></iframe>\n",
      "  (Session info: chrome=108.0.5359.98)\n",
      "\n",
      "\n"
     ]
    }
   ],
   "source": [
    "threads = []\n",
    "year_ranges = ((1997, 2001), (2001, 2005), (2005, 2009), (2009, 2013), (2013, 2017), (2017, 2021))\n",
    "for data_type in [\"player\", \"teams\"]:\n",
    "  for year_range in year_ranges:\n",
    "    for year in range(*year_range):\n",
    "      thread = threading.Thread(target=get_fielding_data, args=(year, data_type, ))\n",
    "      threads.append(thread)\n",
    "      thread.start()\n",
    "\n",
    "    for thread in threads:\n",
    "      thread.join()"
   ]
  },
  {
   "cell_type": "code",
   "execution_count": 21,
   "metadata": {},
   "outputs": [],
   "source": [
    "get_fielding_data(2000, \"teams\")"
   ]
  },
  {
   "cell_type": "code",
   "execution_count": null,
   "metadata": {},
   "outputs": [],
   "source": []
  }
 ],
 "metadata": {
  "kernelspec": {
   "display_name": "cs109a",
   "language": "python",
   "name": "python3"
  },
  "language_info": {
   "codemirror_mode": {
    "name": "ipython",
    "version": 3
   },
   "file_extension": ".py",
   "mimetype": "text/x-python",
   "name": "python",
   "nbconvert_exporter": "python",
   "pygments_lexer": "ipython3",
   "version": "3.7.10"
  },
  "orig_nbformat": 4,
  "vscode": {
   "interpreter": {
    "hash": "2073656a7e2cc91b9856a5f0caa8ab195f8743c9ccc578622d5ab040541847a4"
   }
  }
 },
 "nbformat": 4,
 "nbformat_minor": 2
}
