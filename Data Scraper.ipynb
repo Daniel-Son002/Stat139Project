{
 "cells": [
  {
   "cell_type": "code",
   "execution_count": 33,
   "metadata": {},
   "outputs": [],
   "source": [
    "from bs4 import BeautifulSoup\n",
    "import requests\n",
    "import pandas as pd\n",
    "from selenium import webdriver\n",
    "from selenium.webdriver.common.keys import Keys\n",
    "import time, os\n",
    "import threading"
   ]
  },
  {
   "cell_type": "code",
   "execution_count": 6,
   "metadata": {},
   "outputs": [],
   "source": [
    "chromedriver = \"./chromedriver\"\n",
    "os.environ[\"webdriver.chrome.driver\"] = chromedriver"
   ]
  },
  {
   "cell_type": "code",
   "execution_count": 65,
   "metadata": {},
   "outputs": [],
   "source": [
    "def get_data(year, player_type, data_type):\n",
    "  \"\"\"\n",
    "  Scrapes data from baseball-reference.com\n",
    "  player_type is either batting or pitching\n",
    "  data_type indicates whether it is individual or team data\n",
    "  \"\"\"\n",
    "  driver = webdriver.Chrome(chromedriver)\n",
    "  url = f\"https://www.baseball-reference.com/leagues/majors/{year}-standard-{player_type}.shtml\"\n",
    "  driver.get(url)\n",
    "  if data_type == \"player\":\n",
    "    driver.execute_script(\"window.scrollTo(0, 1500);\")\n",
    "  driver.find_element_by_xpath(f\"//*[@id=\\\"{data_type}_standard_{player_type}_sh\\\"]/div/ul/li[1]/span\").click()\n",
    "  # time.sleep(1)\n",
    "  driver.find_element_by_xpath(f\"//*[@id=\\\"{data_type}_standard_{player_type}_sh\\\"]/div/ul/li[1]/div/ul/li[3]/button\").click()\n",
    "  soup = BeautifulSoup(driver.page_source, \"html.parser\")\n",
    "  text_data = \"\\n\".join(soup.find(\"pre\", id=f\"csv_{data_type}_standard_{player_type}\").text.split(\"\\n\")[4:-1])\n",
    "  with open(f\"data/{data_type}_data/{player_type}{year}.csv\", \"w\") as f:\n",
    "    f.write(text_data)\n",
    "  driver.quit()\n"
   ]
  },
  {
   "cell_type": "code",
   "execution_count": 42,
   "metadata": {},
   "outputs": [],
   "source": [
    "threads = []\n",
    "year_ranges = ((1997, 2000), (2000, 2004), (2004, 2008), (2008, 2012), (2012, 2014))\n",
    "for year_range in year_ranges:\n",
    "  for year in range(*year_range):\n",
    "    thread = threading.Thread(target=get_data, args=(year, \"batting\", \"player\",))\n",
    "    threads.append(thread)\n",
    "    thread.start()\n",
    "\n",
    "  for thread in threads:\n",
    "    thread.join()"
   ]
  },
  {
   "cell_type": "code",
   "execution_count": 52,
   "metadata": {},
   "outputs": [],
   "source": [
    "threads = []\n",
    "year_ranges = ((1997, 2000), (2000, 2004), (2004, 2008), (2008, 2012), (2012, 2014))\n",
    "for year_range in year_ranges:\n",
    "  for year in range(*year_range):\n",
    "    thread = threading.Thread(target=get_data, args=(year, \"pitching\", \"player\", ))\n",
    "    threads.append(thread)\n",
    "    thread.start()\n",
    "\n",
    "  for thread in threads:\n",
    "    thread.join()"
   ]
  },
  {
   "cell_type": "code",
   "execution_count": 66,
   "metadata": {},
   "outputs": [
    {
     "name": "stderr",
     "output_type": "stream",
     "text": [
      "Exception in thread Thread-90:\n",
      "Traceback (most recent call last):\n",
      "  File \"/Users/chrisunjae/anaconda3/envs/cs109a/lib/python3.7/threading.py\", line 926, in _bootstrap_inner\n",
      "    self.run()\n",
      "  File \"/Users/chrisunjae/anaconda3/envs/cs109a/lib/python3.7/threading.py\", line 870, in run\n",
      "    self._target(*self._args, **self._kwargs)\n",
      "  File \"<ipython-input-65-0630cc814e29>\", line 14, in get_data\n",
      "    driver.find_element_by_xpath(f\"//*[@id=\\\"{data_type}_standard_{player_type}_sh\\\"]/div/ul/li[1]/div/ul/li[3]/button\").click()\n",
      "  File \"/Users/chrisunjae/anaconda3/envs/cs109a/lib/python3.7/site-packages/selenium/webdriver/remote/webelement.py\", line 80, in click\n",
      "    self._execute(Command.CLICK_ELEMENT)\n",
      "  File \"/Users/chrisunjae/anaconda3/envs/cs109a/lib/python3.7/site-packages/selenium/webdriver/remote/webelement.py\", line 633, in _execute\n",
      "    return self._parent.execute(command, params)\n",
      "  File \"/Users/chrisunjae/anaconda3/envs/cs109a/lib/python3.7/site-packages/selenium/webdriver/remote/webdriver.py\", line 321, in execute\n",
      "    self.error_handler.check_response(response)\n",
      "  File \"/Users/chrisunjae/anaconda3/envs/cs109a/lib/python3.7/site-packages/selenium/webdriver/remote/errorhandler.py\", line 242, in check_response\n",
      "    raise exception_class(message, screen, stacktrace)\n",
      "selenium.common.exceptions.ElementNotInteractableException: Message: element not interactable\n",
      "  (Session info: chrome=108.0.5359.98)\n",
      "\n",
      "\n",
      "Exception in thread Thread-91:\n",
      "Traceback (most recent call last):\n",
      "  File \"/Users/chrisunjae/anaconda3/envs/cs109a/lib/python3.7/threading.py\", line 926, in _bootstrap_inner\n",
      "    self.run()\n",
      "  File \"/Users/chrisunjae/anaconda3/envs/cs109a/lib/python3.7/threading.py\", line 870, in run\n",
      "    self._target(*self._args, **self._kwargs)\n",
      "  File \"<ipython-input-65-0630cc814e29>\", line 14, in get_data\n",
      "    driver.find_element_by_xpath(f\"//*[@id=\\\"{data_type}_standard_{player_type}_sh\\\"]/div/ul/li[1]/div/ul/li[3]/button\").click()\n",
      "  File \"/Users/chrisunjae/anaconda3/envs/cs109a/lib/python3.7/site-packages/selenium/webdriver/remote/webelement.py\", line 80, in click\n",
      "    self._execute(Command.CLICK_ELEMENT)\n",
      "  File \"/Users/chrisunjae/anaconda3/envs/cs109a/lib/python3.7/site-packages/selenium/webdriver/remote/webelement.py\", line 633, in _execute\n",
      "    return self._parent.execute(command, params)\n",
      "  File \"/Users/chrisunjae/anaconda3/envs/cs109a/lib/python3.7/site-packages/selenium/webdriver/remote/webdriver.py\", line 321, in execute\n",
      "    self.error_handler.check_response(response)\n",
      "  File \"/Users/chrisunjae/anaconda3/envs/cs109a/lib/python3.7/site-packages/selenium/webdriver/remote/errorhandler.py\", line 242, in check_response\n",
      "    raise exception_class(message, screen, stacktrace)\n",
      "selenium.common.exceptions.ElementNotInteractableException: Message: element not interactable\n",
      "  (Session info: chrome=108.0.5359.98)\n",
      "\n",
      "\n"
     ]
    }
   ],
   "source": [
    "threads = []\n",
    "year_ranges = ((1997, 2000), (2000, 2003), (2003, 2006), (2006, 2009), (2009, 2012), (2012, 2015), (2015, 2017))\n",
    "for player_type in [\"pitching\", \"batting\"]:\n",
    "  for year_range in year_ranges:\n",
    "    for year in range(*year_range):\n",
    "      thread = threading.Thread(target=get_data, args=(year, player_type, \"teams\", ))\n",
    "      threads.append(thread)\n",
    "      thread.start()\n",
    "\n",
    "    for thread in threads:\n",
    "      thread.join()"
   ]
  },
  {
   "cell_type": "code",
   "execution_count": null,
   "metadata": {},
   "outputs": [],
   "source": []
  }
 ],
 "metadata": {
  "kernelspec": {
   "display_name": "cs109a",
   "language": "python",
   "name": "python3"
  },
  "language_info": {
   "codemirror_mode": {
    "name": "ipython",
    "version": 3
   },
   "file_extension": ".py",
   "mimetype": "text/x-python",
   "name": "python",
   "nbconvert_exporter": "python",
   "pygments_lexer": "ipython3",
   "version": "3.7.10"
  },
  "orig_nbformat": 4,
  "vscode": {
   "interpreter": {
    "hash": "2073656a7e2cc91b9856a5f0caa8ab195f8743c9ccc578622d5ab040541847a4"
   }
  }
 },
 "nbformat": 4,
 "nbformat_minor": 2
}
